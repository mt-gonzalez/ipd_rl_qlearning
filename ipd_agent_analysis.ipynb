{
 "cells": [
  {
   "cell_type": "markdown",
   "metadata": {},
   "source": [
    "# Analysis of the perform of a Q-learning agent in the Iterated Prisoner's Dilemma #\n",
    "\n",
    "## 1. Introduction ##\n",
    "In this notebook I will explore the Q-learning agent behavior inside an IPD environment. The analysis will encompass:\n",
    "- How the agent learns to maximize it's rewards\n",
    "- How interacts with different opponent strategies\n",
    "- The impact of key parameters in the agent performance "
   ]
  },
  {
   "cell_type": "markdown",
   "metadata": {},
   "source": [
    "## 2. Configuration ##\n",
    "\n",
    "We have to set up de environment and the agent before we start with the analysis. Next, we define key parameters and create the instances needed.\n",
    "\n"
   ]
  },
  {
   "cell_type": "code",
   "execution_count": 1,
   "metadata": {},
   "outputs": [],
   "source": [
    "import sys\n",
    "import os\n",
    "\n",
    "# Añadir la carpeta 'src' al path desde la raíz\n",
    "sys.path.append(os.path.abspath('./src'))\n",
    "\n",
    "import numpy as np\n",
    "import matplotlib.pyplot as plt\n",
    "import seaborn as sns\n",
    "from agent import QL_Agent\n",
    "from ipd_env import IteratedPrisonersDilemmaEnv\n",
    "from strats import tft, stft, gtft, imptft, always_defect, always_cooperate\n",
    "\n",
    "#Initial Parameters\n",
    "num_rounds = 200  #Rounds per episode\n",
    "episodes = 500  #Number of episodes\n",
    "alpha = 0.1  #Learning rate\n",
    "gamma = 0.9  #Discount factor\n",
    "epsilon = 0.1  #Exploration rate\n",
    "\n",
    "#Initialize the environment and the agent\n",
    "env = IteratedPrisonersDilemmaEnv(num_rounds=num_rounds, opponent_strategies=[tft])\n",
    "agent = QL_Agent(env.action_space, env.observation_space, alpha=alpha, gamma=gamma, epsilon=epsilon)\n",
    "\n",
    "#Save some metrics\n",
    "total_rewards = []\n",
    "cooperation_rates = []\n",
    "cooperation_counts = []\n",
    "defection_counts = []\n",
    "cooperation_points = []\n",
    "defection_points = []\n"
   ]
  },
  {
   "cell_type": "markdown",
   "metadata": {},
   "source": [
    "## 3. Simulation ##\n",
    "\n",
    "In this section we will train the agent in the IPD environment implemented in Gymnasium \n",
    "- The agent will decide following an `epsilon-greedy` policy.\n",
    "- Towards the end of every episode, we will update its Q-table based on the rewards.\n",
    "\n",
    "**Key Parameters:**\n",
    "- `epsilon`: controls exploration (random actions) vs. explotation (using learned policy).\n",
    "- `alpha`: learning rate.\n",
    "- `gamma`: discount factor to value future rewards.\n",
    "\n",
    "We will take insights as:\n",
    "- **Accumulated rewards:** measures agent overall performance.\n",
    "- **Cooperation rate:** indicates how often agent decides to cooperate.\n"
   ]
  },
  {
   "cell_type": "code",
   "execution_count": 2,
   "metadata": {},
   "outputs": [],
   "source": [
    "for episode in range(episodes):\n",
    "    state = env.reset()\n",
    "    total_reward = 0\n",
    "    cooperations = 0\n",
    "    defections = 0\n",
    "\n",
    "    for _ in range(num_rounds):\n",
    "        action = agent.choose_action(state)\n",
    "        next_state, reward, done, _ = env.step(action)\n",
    "        agent.learn(state, action, reward, next_state, done)\n",
    "        \n",
    "        total_reward += reward\n",
    "        if action == 0:  # Action \"Cooperate\"\n",
    "            cooperations += 1\n",
    "            cooperation_points.append((episode, len(cooperation_points) + 1))\n",
    "        else:\n",
    "            defection_points.append((episode, len(defection_points) + 1))\n",
    "            #defections += 1\n",
    "        if done:\n",
    "            break\n",
    "        state = next_state\n",
    "\n",
    "    #Taking metrics\n",
    "    total_rewards.append(total_reward)\n",
    "    cooperation_rates.append(cooperations / num_rounds)\n",
    "    cooperation_counts.append(cooperations)\n",
    "    defection_counts.append(defections)"
   ]
  },
  {
   "cell_type": "markdown",
   "metadata": {},
   "source": [
    "## 4. Performance analysis ##\n",
    "\n",
    "### 4.1 Cumulative Reward Evolution ###\n",
    "Next plot show how cumulative reward of the agent evolves through episodes.\n",
    "This helps us to visualize if the agent its learning to optimize its decisions."
   ]
  },
  {
   "cell_type": "code",
   "execution_count": null,
   "metadata": {},
   "outputs": [],
   "source": [
    "plt.figure(figsize=(10, 6))\n",
    "plt.plot(total_rewards, label='Cumulative Reward', color='blue')\n",
    "plt.xlabel('Episodes')\n",
    "plt.ylabel('Total Reward')\n",
    "plt.title('Evolution of Cumulative Reward')\n",
    "plt.legend()\n",
    "plt.grid()\n",
    "plt.show()"
   ]
  },
  {
   "cell_type": "markdown",
   "metadata": {},
   "source": [
    "### 4.2 Cooperation rate through time ###\n",
    "We analyze the proportion of times that the agent decides to cooperate in each episode.\n",
    "This is useful to understand if the agent is adopting a \"generous\" behaviour or a \"greedy\" one."
   ]
  },
  {
   "cell_type": "code",
   "execution_count": null,
   "metadata": {},
   "outputs": [],
   "source": [
    "plt.figure(figsize=(10, 6))\n",
    "plt.plot(cooperation_rates, label='Cooperation rate', color='green')\n",
    "plt.xlabel('Episodes')\n",
    "plt.ylabel('Cooperation frequency')\n",
    "plt.title('Evolution of cooperation rate')\n",
    "plt.legend()\n",
    "plt.grid()\n",
    "plt.show()"
   ]
  },
  {
   "cell_type": "markdown",
   "metadata": {},
   "source": [
    "### 4.3 Cooperation vs Defection action ###"
   ]
  },
  {
   "cell_type": "code",
   "execution_count": null,
   "metadata": {},
   "outputs": [],
   "source": [
    "cooperation_x, cooperation_y = zip(*cooperation_points)\n",
    "defection_x, defection_y = zip(*defection_points)\n",
    "\n",
    "plt.figure(figsize=(12, 6))\n",
    "\n",
    "plt.scatter(cooperation_x, cooperation_y, color='blue', label='Cooperations', alpha=0.6)\n",
    "\n",
    "plt.scatter(defection_x, defection_y, color='red', label='Defections', alpha=0.6)\n",
    "\n",
    "plt.title('Accumulation of Cooperations and Defections Over Episodes')\n",
    "plt.xlabel('Episode')\n",
    "plt.ylabel('Cumulative Count')\n",
    "plt.legend()\n",
    "plt.grid(alpha=0.5)\n",
    "plt.show()"
   ]
  },
  {
   "cell_type": "markdown",
   "metadata": {},
   "source": [
    "## 5. Visualization ##\n",
    "\n",
    "### 5.1 Q-table visualization ###\n",
    "The agent stores its knowledge in a **Q-table**, which contains asociated values for every (state, action) pair.\n",
    "Each values indicates the expected reward if the agent takes a specific action from a given state.\n",
    "\n",
    "In the following heatmap, we can observ how Q-values evolve after the training.\n",
    "This gives us an idea of what action the agent prefer in different situations."
   ]
  },
  {
   "cell_type": "code",
   "execution_count": null,
   "metadata": {},
   "outputs": [],
   "source": [
    "plt.figure(figsize=(8, 6))\n",
    "sns.heatmap(agent.q_table, annot=True, cmap='coolwarm', cbar=True, fmt='.2f')\n",
    "plt.title('Final Q-table')\n",
    "plt.xlabel('Action (0=Coop, 1=Defect)')\n",
    "plt.ylabel('State')\n",
    "plt.show()"
   ]
  },
  {
   "cell_type": "markdown",
   "metadata": {},
   "source": [
    "### 5.2 Opponent Analysis ###\n",
    "\n",
    "Here we compare how the agent performs against different opponent strategies: \n",
    "\n",
    "- **Tit-for-Tat:** Imitates last agent's decision (start cooperating).\n",
    "- **Suspicious Tit-for-Tat:** Defects on the first round and imitates agent's previous move thereafter\n",
    "- **Generous Tit-for-Tat:** Cooprates on the first round and after agent cooperates. Following a defection, it cooperates with a certain probability\n",
    "- **Imperfect Tit-for-Tat:** Imitates agent's last move with high (but less than one) probability\n",
    "- **Always Cooperate**\n",
    "- **Always Defect**\n",
    "\n",
    "This let us see if the agent adjust it's behaviour based on the opponent strategy.\n"
   ]
  },
  {
   "cell_type": "code",
   "execution_count": null,
   "metadata": {},
   "outputs": [],
   "source": [
    "opponent_strategies = {\n",
    "    \"Tit-for-Tat\": tft,\n",
    "    \"Suspicious Tit-for-Tat\": stft,\n",
    "    \"Generous Tit-for-Tat\": gtft,\n",
    "    \"Imperfect Tit-for-Tat\": imptft,\n",
    "    \"Always Defect\": always_defect,\n",
    "    \"Always Cooperate\": always_cooperate\n",
    "}\n",
    "\n",
    "results = {}\n",
    "for strategy_name, strategy in opponent_strategies.items():\n",
    "    env.opponent_strategies = [strategy]\n",
    "    rewards = []\n",
    "    for _ in range(episodes):\n",
    "        state = env.reset()\n",
    "        total_reward = 0\n",
    "        for _ in range(num_rounds):\n",
    "            action = agent.choose_action(state)\n",
    "            next_state, reward, done, _ = env.step(action)\n",
    "            total_reward += reward\n",
    "            if done:\n",
    "                break\n",
    "            state = next_state\n",
    "        rewards.append(total_reward)\n",
    "    results[strategy_name] = np.mean(rewards)\n",
    "\n",
    "#Visualize results\n",
    "plt.figure(figsize=(12, 8))\n",
    "plt.bar(results.keys(), results.values(), color=['blue', 'red', 'green', 'yellow', 'purple', 'brown'])\n",
    "plt.title('Agent performance vs. diferent strategies')\n",
    "plt.xlabel('Opponent Strategies')\n",
    "plt.ylabel('Average reward')\n",
    "plt.xticks(rotation=45, ha='right')\n",
    "plt.grid()\n",
    "plt.show()"
   ]
  },
  {
   "cell_type": "code",
   "execution_count": null,
   "metadata": {},
   "outputs": [],
   "source": [
    "episode_rewards = {}\n",
    "\n",
    "for strategy_name, strategy in opponent_strategies.items():\n",
    "    env.opponent_strategies = [strategy]\n",
    "    rewards = []\n",
    "    for episode in range(episodes):\n",
    "        state = env.reset()\n",
    "        total_reward = 0\n",
    "        for _ in range(num_rounds):\n",
    "            action = agent.choose_action(state)\n",
    "            next_state, reward, done, _ = env.step(action)\n",
    "            total_reward += reward\n",
    "            if done:\n",
    "                break\n",
    "            state = next_state\n",
    "        rewards.append(total_reward)\n",
    "    episode_rewards[strategy_name] = rewards  #Save rewards per episode\n",
    "\n",
    "#Visualize results in a scatter plot\n",
    "plt.figure(figsize=(12, 8))\n",
    "\n",
    "#Add each strategy data points\n",
    "for strategy_name, rewards in episode_rewards.items():\n",
    "    plt.scatter(range(1, episodes + 1), rewards, label=strategy_name, alpha=0.6, s=50)\n",
    "\n",
    "plt.title('Reward evolution per episode vs different strategies')\n",
    "plt.xlabel('Episode')\n",
    "plt.ylabel('Cumulative reward')\n",
    "plt.legend(title=\"Strategies\")\n",
    "plt.grid(alpha=0.5)\n",
    "plt.show()\n"
   ]
  },
  {
   "cell_type": "markdown",
   "metadata": {},
   "source": [
    "## 6.Overview ##\n",
    "\n"
   ]
  }
 ],
 "metadata": {
  "kernelspec": {
   "display_name": "tit4tat",
   "language": "python",
   "name": "python3"
  },
  "language_info": {
   "codemirror_mode": {
    "name": "ipython",
    "version": 3
   },
   "file_extension": ".py",
   "mimetype": "text/x-python",
   "name": "python",
   "nbconvert_exporter": "python",
   "pygments_lexer": "ipython3",
   "version": "3.12.2"
  }
 },
 "nbformat": 4,
 "nbformat_minor": 2
}
